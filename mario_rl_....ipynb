{
 "cells": [
  {
   "cell_type": "code",
   "execution_count": 2,
   "metadata": {},
   "outputs": [],
   "source": [
    "import torch\n",
    "from torch import nn\n",
    "from torchvision import transforms as T\n",
    "from PIL import Image\n",
    "import numpy as np\n",
    "from pathlib import Path\n",
    "from collections import deque\n",
    "import random, datetime, os, copy\n",
    "from pynput import keyboard\n",
    "\n",
    "# Gym is an OpenAI toolkit for RL\n",
    "import gymnasium\n",
    "from gymnasium.spaces import Box\n",
    "from gymnasium.wrappers import FrameStack\n",
    "\n",
    "# NES Emulator for OpenAI Gym\n",
    "from nes_py.wrappers import JoypadSpace\n",
    "\n",
    "# Super Mario environment for OpenAI Gym\n",
    "import gym_super_mario_bros\n",
    "\n",
    "\n",
    "#from tensordict import TensorDict\n",
    "#from torchrl.data import TensorDictReplayBuffer, LazyMemmapStorage"
   ]
  },
  {
   "cell_type": "code",
   "execution_count": 3,
   "metadata": {},
   "outputs": [
    {
     "name": "stderr",
     "output_type": "stream",
     "text": [
      "/opt/miniconda3/envs/my_m1_env/lib/python3.9/site-packages/gym/envs/registration.py:555: UserWarning: \u001b[33mWARN: The environment SuperMarioBros-1-1-v0 is out of date. You should consider upgrading to version `v3`.\u001b[0m\n",
      "  logger.warn(\n",
      "/opt/miniconda3/envs/my_m1_env/lib/python3.9/site-packages/gym/envs/registration.py:627: UserWarning: \u001b[33mWARN: The environment creator metadata doesn't include `render_modes`, contains: ['render.modes', 'video.frames_per_second']\u001b[0m\n",
      "  logger.warn(\n"
     ]
    }
   ],
   "source": [
    "# Initialize Super Mario environment (in v0.26 change render mode to 'human' to see results on the screen)\n",
    "if gymnasium.__version__ < '0.26':\n",
    "    env = gym_super_mario_bros.make(\"SuperMarioBros-1-1-v0\", new_step_api=True)\n",
    "else:\n",
    "    env = gym_super_mario_bros.make(\"SuperMarioBros-1-1-v0\", render_mode='human', apply_api_compatibility=True)\n",
    "\n",
    "# Limit the action-space to\n",
    "#   0. walk right\n",
    "#   1. jump right\n",
    "#env = JoypadSpace(env, [[\"right\"], [\"right\", \"A\"]])\n",
    "\n",
    "#env.reset()\n",
    "#next_state, reward, done, trunc, info = env.step(action=0)\n",
    "#print(f\"{next_state.shape},\\n {reward},\\n {done},\\n {info}\")"
   ]
  },
  {
   "cell_type": "code",
   "execution_count": 5,
   "metadata": {},
   "outputs": [
    {
     "name": "stderr",
     "output_type": "stream",
     "text": [
      "WARNING:pynput.keyboard.Listener:This process is not trusted! Input event monitoring will not be possible until it is added to accessibility clients.\n",
      "/opt/miniconda3/envs/my_m1_env/lib/python3.9/site-packages/gym/utils/passive_env_checker.py:272: UserWarning: \u001b[33mWARN: No render modes was declared in the environment (env.metadata['render_modes'] is None or not defined), you may have trouble when calling `.render()`.\u001b[0m\n",
      "  logger.warn(\n"
     ]
    },
    {
     "ename": "KeyError",
     "evalue": "128",
     "output_type": "error",
     "traceback": [
      "\u001b[0;31m---------------------------------------------------------------------------\u001b[0m",
      "\u001b[0;31mKeyError\u001b[0m                                  Traceback (most recent call last)",
      "\u001b[1;32m/Users/marsfun/Documents/GitHub/MarioDL/mario_rl_....ipynb Cell 3\u001b[0m line \u001b[0;36m4\n\u001b[1;32m     <a href='vscode-notebook-cell:/Users/marsfun/Documents/GitHub/MarioDL/mario_rl_....ipynb#W2sZmlsZQ%3D%3D?line=29'>30</a>\u001b[0m env\u001b[39m.\u001b[39mreset()\n\u001b[1;32m     <a href='vscode-notebook-cell:/Users/marsfun/Documents/GitHub/MarioDL/mario_rl_....ipynb#W2sZmlsZQ%3D%3D?line=30'>31</a>\u001b[0m \u001b[39mwhile\u001b[39;00m \u001b[39mTrue\u001b[39;00m:\n\u001b[1;32m     <a href='vscode-notebook-cell:/Users/marsfun/Documents/GitHub/MarioDL/mario_rl_....ipynb#W2sZmlsZQ%3D%3D?line=31'>32</a>\u001b[0m \n\u001b[1;32m     <a href='vscode-notebook-cell:/Users/marsfun/Documents/GitHub/MarioDL/mario_rl_....ipynb#W2sZmlsZQ%3D%3D?line=32'>33</a>\u001b[0m     \u001b[39m#if done:\u001b[39;00m\n\u001b[0;32m   (...)\u001b[0m\n\u001b[1;32m     <a href='vscode-notebook-cell:/Users/marsfun/Documents/GitHub/MarioDL/mario_rl_....ipynb#W2sZmlsZQ%3D%3D?line=36'>37</a>\u001b[0m     \u001b[39m#while action not in env._action_map:\u001b[39;00m\n\u001b[1;32m     <a href='vscode-notebook-cell:/Users/marsfun/Documents/GitHub/MarioDL/mario_rl_....ipynb#W2sZmlsZQ%3D%3D?line=37'>38</a>\u001b[0m         \u001b[39m#action = env.action_space.sample()\u001b[39;00m\n\u001b[0;32m---> <a href='vscode-notebook-cell:/Users/marsfun/Documents/GitHub/MarioDL/mario_rl_....ipynb#W2sZmlsZQ%3D%3D?line=39'>40</a>\u001b[0m     state, reward, done, trunc, info \u001b[39m=\u001b[39m env\u001b[39m.\u001b[39;49mstep(action)\n\u001b[1;32m     <a href='vscode-notebook-cell:/Users/marsfun/Documents/GitHub/MarioDL/mario_rl_....ipynb#W2sZmlsZQ%3D%3D?line=41'>42</a>\u001b[0m     \u001b[39m# Set action back to 0 for the next loop iteration\u001b[39;00m\n\u001b[1;32m     <a href='vscode-notebook-cell:/Users/marsfun/Documents/GitHub/MarioDL/mario_rl_....ipynb#W2sZmlsZQ%3D%3D?line=42'>43</a>\u001b[0m     action \u001b[39m=\u001b[39m \u001b[39m0\u001b[39m\n",
      "File \u001b[0;32m/opt/miniconda3/envs/my_m1_env/lib/python3.9/site-packages/nes_py/wrappers/joypad_space.py:74\u001b[0m, in \u001b[0;36mJoypadSpace.step\u001b[0;34m(self, action)\u001b[0m\n\u001b[1;32m     59\u001b[0m \u001b[39m\u001b[39m\u001b[39m\"\"\"\u001b[39;00m\n\u001b[1;32m     60\u001b[0m \u001b[39mTake a step using the given action.\u001b[39;00m\n\u001b[1;32m     61\u001b[0m \n\u001b[0;32m   (...)\u001b[0m\n\u001b[1;32m     71\u001b[0m \n\u001b[1;32m     72\u001b[0m \u001b[39m\"\"\"\u001b[39;00m\n\u001b[1;32m     73\u001b[0m \u001b[39m# take the step and record the output\u001b[39;00m\n\u001b[0;32m---> 74\u001b[0m \u001b[39mreturn\u001b[39;00m \u001b[39mself\u001b[39;49m\u001b[39m.\u001b[39;49menv\u001b[39m.\u001b[39;49mstep(\u001b[39mself\u001b[39;49m\u001b[39m.\u001b[39;49m_action_map[action])\n",
      "File \u001b[0;32m/opt/miniconda3/envs/my_m1_env/lib/python3.9/site-packages/nes_py/wrappers/joypad_space.py:74\u001b[0m, in \u001b[0;36mJoypadSpace.step\u001b[0;34m(self, action)\u001b[0m\n\u001b[1;32m     59\u001b[0m \u001b[39m\u001b[39m\u001b[39m\"\"\"\u001b[39;00m\n\u001b[1;32m     60\u001b[0m \u001b[39mTake a step using the given action.\u001b[39;00m\n\u001b[1;32m     61\u001b[0m \n\u001b[0;32m   (...)\u001b[0m\n\u001b[1;32m     71\u001b[0m \n\u001b[1;32m     72\u001b[0m \u001b[39m\"\"\"\u001b[39;00m\n\u001b[1;32m     73\u001b[0m \u001b[39m# take the step and record the output\u001b[39;00m\n\u001b[0;32m---> 74\u001b[0m \u001b[39mreturn\u001b[39;00m \u001b[39mself\u001b[39m\u001b[39m.\u001b[39menv\u001b[39m.\u001b[39mstep(\u001b[39mself\u001b[39;49m\u001b[39m.\u001b[39;49m_action_map[action])\n",
      "\u001b[0;31mKeyError\u001b[0m: 128"
     ]
    },
    {
     "ename": "",
     "evalue": "",
     "output_type": "error",
     "traceback": [
      "\u001b[1;31mThe Kernel crashed while executing code in the the current cell or a previous cell. Please review the code in the cell(s) to identify a possible cause of the failure. Click <a href='https://aka.ms/vscodeJupyterKernelCrash'>here</a> for more info. View Jupyter <a href='command:jupyter.viewOutput'>log</a> for further details."
     ]
    }
   ],
   "source": [
    "#import keyboard\n",
    "\n",
    "from gym_super_mario_bros.actions import SIMPLE_MOVEMENT\n",
    "env = JoypadSpace(env, [[\"A\"], [\"left\"], [\"B\"], [\"right\"]])\n",
    "\n",
    "\n",
    "# Anfängliche Aktion\n",
    "action = 0\n",
    "\n",
    "# Funktion, die aufgerufen wird, wenn eine Taste gedrückt wird\n",
    "def on_key_press(key):\n",
    "    global action\n",
    "    try:\n",
    "        if key.char == 'w':\n",
    "            action = 0\n",
    "        elif key.char == 'a':\n",
    "            action = 1\n",
    "        elif key.char == 's':\n",
    "            action = 2\n",
    "        elif key.char == 'd':\n",
    "            action = 3\n",
    "    except AttributeError:\n",
    "        pass\n",
    "\n",
    "# Starten Sie den KeyboardListener im Hintergrund\n",
    "listener = keyboard.Listener(on_press=on_key_press)\n",
    "listener.start()\n",
    "\n",
    "done = True\n",
    "env.reset()\n",
    "while True:\n",
    "\n",
    "    #if done:\n",
    "     #   state = env.reset()\n",
    "    #action = env.action_space.sample()\n",
    "\n",
    "    #while action not in env._action_map:\n",
    "        #action = env.action_space.sample()\n",
    "\n",
    "    state, reward, done, trunc, info = env.step(action)\n",
    "\n",
    "    # Set action back to 0 for the next loop iteration\n",
    "    action = 0\n",
    "\n",
    "    if done:\n",
    "        state = env.reset()\n",
    "\n",
    "    env.render()\n",
    "\n",
    "env.close()\n"
   ]
  }
 ],
 "metadata": {
  "kernelspec": {
   "display_name": "my_m1_env",
   "language": "python",
   "name": "python3"
  },
  "language_info": {
   "codemirror_mode": {
    "name": "ipython",
    "version": 3
   },
   "file_extension": ".py",
   "mimetype": "text/x-python",
   "name": "python",
   "nbconvert_exporter": "python",
   "pygments_lexer": "ipython3",
   "version": "3.9.16"
  }
 },
 "nbformat": 4,
 "nbformat_minor": 2
}
